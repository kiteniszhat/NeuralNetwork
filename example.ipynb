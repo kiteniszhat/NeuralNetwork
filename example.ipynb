{
 "cells": [
  {
   "cell_type": "code",
   "id": "initial_id",
   "metadata": {
    "collapsed": true,
    "ExecuteTime": {
     "end_time": "2025-08-10T18:01:40.969679Z",
     "start_time": "2025-08-10T18:01:40.917921Z"
    }
   },
   "source": [
    "import numpy as np\n",
    "\n",
    "from DenseLayer import DenseLayer\n",
    "from ActivationFunc import Softmax\n",
    "from LossFunc import CategoricalCrossEntropy\n",
    "\n",
    "X = np.array([[1, 2, 3], [4, 5, 6]])\n",
    "y = np.array([[1, 0, 0], [0, 1, 0]])\n",
    "\n",
    "X"
   ],
   "outputs": [
    {
     "data": {
      "text/plain": [
       "array([[1, 2, 3],\n",
       "       [4, 5, 6]])"
      ]
     },
     "execution_count": 1,
     "metadata": {},
     "output_type": "execute_result"
    }
   ],
   "execution_count": 1
  },
  {
   "metadata": {
    "ExecuteTime": {
     "end_time": "2025-08-10T18:01:40.979497Z",
     "start_time": "2025-08-10T18:01:40.970644Z"
    }
   },
   "cell_type": "code",
   "source": [
    "dense = DenseLayer(3, 3, Softmax)\n",
    "\n",
    "dense.forward(X)\n",
    "\n",
    "dense.output"
   ],
   "id": "cc981ad65c7e4de9",
   "outputs": [
    {
     "data": {
      "text/plain": [
       "array([[0.3122873 , 0.33614227, 0.35157043],\n",
       "       [0.28075797, 0.33913938, 0.38010265]])"
      ]
     },
     "execution_count": 2,
     "metadata": {},
     "output_type": "execute_result"
    }
   ],
   "execution_count": 2
  },
  {
   "metadata": {
    "ExecuteTime": {
     "end_time": "2025-08-10T18:01:40.982654Z",
     "start_time": "2025-08-10T18:01:40.980231Z"
    }
   },
   "cell_type": "code",
   "source": "y",
   "id": "f1e1c4805385edcd",
   "outputs": [
    {
     "data": {
      "text/plain": [
       "array([[1, 0, 0],\n",
       "       [0, 1, 0]])"
      ]
     },
     "execution_count": 3,
     "metadata": {},
     "output_type": "execute_result"
    }
   ],
   "execution_count": 3
  },
  {
   "metadata": {
    "ExecuteTime": {
     "end_time": "2025-08-10T18:21:13.530699Z",
     "start_time": "2025-08-10T18:21:13.527536Z"
    }
   },
   "cell_type": "code",
   "source": [
    "loss = CategoricalCrossEntropy().forward(y, dense.output)\n",
    "\n",
    "loss"
   ],
   "id": "d27090e8472dba92",
   "outputs": [
    {
     "data": {
      "text/plain": [
       "(array([1.16383168, 1.08134411]), np.float64(1.122587896006621))"
      ]
     },
     "execution_count": 11,
     "metadata": {},
     "output_type": "execute_result"
    }
   ],
   "execution_count": 11
  },
  {
   "metadata": {
    "ExecuteTime": {
     "end_time": "2025-08-10T18:34:56.017298Z",
     "start_time": "2025-08-10T18:34:56.014543Z"
    }
   },
   "cell_type": "code",
   "source": [
    "from Accuracy import Accuracy\n",
    "acc_metric = Accuracy(\"categorical\")\n",
    "acc_metric.forward(np.array([[0, 0, 1], [0, 1, 0]]), dense.output)"
   ],
   "id": "ca8833ccca43a8d9",
   "outputs": [
    {
     "data": {
      "text/plain": [
       "np.float64(0.5)"
      ]
     },
     "execution_count": 20,
     "metadata": {},
     "output_type": "execute_result"
    }
   ],
   "execution_count": 20
  },
  {
   "metadata": {
    "ExecuteTime": {
     "end_time": "2025-08-10T18:40:54.800338Z",
     "start_time": "2025-08-10T18:40:54.798496Z"
    }
   },
   "cell_type": "code",
   "source": "",
   "id": "4580f313cf52b3b0",
   "outputs": [],
   "execution_count": 20
  },
  {
   "metadata": {},
   "cell_type": "code",
   "outputs": [],
   "execution_count": null,
   "source": "",
   "id": "65f500bdcd8c172f"
  }
 ],
 "metadata": {
  "kernelspec": {
   "display_name": "Python 3",
   "language": "python",
   "name": "python3"
  },
  "language_info": {
   "codemirror_mode": {
    "name": "ipython",
    "version": 2
   },
   "file_extension": ".py",
   "mimetype": "text/x-python",
   "name": "python",
   "nbconvert_exporter": "python",
   "pygments_lexer": "ipython2",
   "version": "2.7.6"
  }
 },
 "nbformat": 4,
 "nbformat_minor": 5
}
