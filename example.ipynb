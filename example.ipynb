{
 "cells": [
  {
   "cell_type": "code",
   "id": "initial_id",
   "metadata": {
    "collapsed": true,
    "ExecuteTime": {
     "end_time": "2025-08-10T22:53:45.829838Z",
     "start_time": "2025-08-10T22:53:45.777073Z"
    }
   },
   "source": [
    "import numpy as np\n",
    "\n",
    "from DenseLayer import DenseLayer\n",
    "from ActivationFunc import Softmax\n",
    "from LossFunc import CategoricalCrossEntropy\n",
    "\n",
    "X = np.array([[1, 2, 3], [4, 5, 6]])\n",
    "y = np.array([[1, 0, 0], [0, 1, 0]])\n",
    "\n",
    "X"
   ],
   "outputs": [
    {
     "data": {
      "text/plain": [
       "array([[1, 2, 3],\n",
       "       [4, 5, 6]])"
      ]
     },
     "execution_count": 1,
     "metadata": {},
     "output_type": "execute_result"
    }
   ],
   "execution_count": 1
  },
  {
   "metadata": {
    "ExecuteTime": {
     "end_time": "2025-08-10T22:53:45.839835Z",
     "start_time": "2025-08-10T22:53:45.831029Z"
    }
   },
   "cell_type": "code",
   "source": [
    "dense = DenseLayer(3, 3, Softmax)\n",
    "\n",
    "dense.forward(X)\n",
    "\n",
    "dense.output"
   ],
   "id": "cc981ad65c7e4de9",
   "outputs": [
    {
     "data": {
      "text/plain": [
       "array([[0.34604462, 0.32507486, 0.32888052],\n",
       "       [0.36417427, 0.30911306, 0.32671267]])"
      ]
     },
     "execution_count": 2,
     "metadata": {},
     "output_type": "execute_result"
    }
   ],
   "execution_count": 2
  },
  {
   "metadata": {
    "ExecuteTime": {
     "end_time": "2025-08-10T22:53:45.843830Z",
     "start_time": "2025-08-10T22:53:45.840599Z"
    }
   },
   "cell_type": "code",
   "source": "y",
   "id": "f1e1c4805385edcd",
   "outputs": [
    {
     "data": {
      "text/plain": [
       "array([[1, 0, 0],\n",
       "       [0, 1, 0]])"
      ]
     },
     "execution_count": 3,
     "metadata": {},
     "output_type": "execute_result"
    }
   ],
   "execution_count": 3
  },
  {
   "metadata": {
    "ExecuteTime": {
     "end_time": "2025-08-10T22:53:45.847821Z",
     "start_time": "2025-08-10T22:53:45.844907Z"
    }
   },
   "cell_type": "code",
   "source": [
    "loss = CategoricalCrossEntropy().calculate(y, dense.output)\n",
    "\n",
    "loss"
   ],
   "id": "d27090e8472dba92",
   "outputs": [
    {
     "data": {
      "text/plain": [
       "(array([1.06118755, 1.17404819]), np.float64(1.1176178726665595))"
      ]
     },
     "execution_count": 4,
     "metadata": {},
     "output_type": "execute_result"
    }
   ],
   "execution_count": 4
  },
  {
   "metadata": {
    "ExecuteTime": {
     "end_time": "2025-08-10T22:53:45.854318Z",
     "start_time": "2025-08-10T22:53:45.848925Z"
    }
   },
   "cell_type": "code",
   "source": [
    "from Accuracy import Accuracy\n",
    "acc_metric = Accuracy(\"categorical\")\n",
    "acc_metric.calculate(y, dense.output)"
   ],
   "id": "ca8833ccca43a8d9",
   "outputs": [
    {
     "data": {
      "text/plain": [
       "np.float64(0.5)"
      ]
     },
     "execution_count": 5,
     "metadata": {},
     "output_type": "execute_result"
    }
   ],
   "execution_count": 5
  },
  {
   "metadata": {
    "ExecuteTime": {
     "end_time": "2025-08-10T22:53:45.856827Z",
     "start_time": "2025-08-10T22:53:45.855134Z"
    }
   },
   "cell_type": "code",
   "source": "",
   "id": "4580f313cf52b3b0",
   "outputs": [],
   "execution_count": 5
  },
  {
   "metadata": {
    "ExecuteTime": {
     "end_time": "2025-08-10T22:53:45.859343Z",
     "start_time": "2025-08-10T22:53:45.857688Z"
    }
   },
   "cell_type": "code",
   "source": "",
   "id": "65f500bdcd8c172f",
   "outputs": [],
   "execution_count": 5
  }
 ],
 "metadata": {
  "kernelspec": {
   "display_name": "Python 3",
   "language": "python",
   "name": "python3"
  },
  "language_info": {
   "codemirror_mode": {
    "name": "ipython",
    "version": 2
   },
   "file_extension": ".py",
   "mimetype": "text/x-python",
   "name": "python",
   "nbconvert_exporter": "python",
   "pygments_lexer": "ipython2",
   "version": "2.7.6"
  }
 },
 "nbformat": 4,
 "nbformat_minor": 5
}
