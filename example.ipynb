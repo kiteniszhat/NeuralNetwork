{
 "cells": [
  {
   "cell_type": "code",
   "id": "initial_id",
   "metadata": {
    "collapsed": true,
    "ExecuteTime": {
     "end_time": "2025-08-09T14:35:09.432571Z",
     "start_time": "2025-08-09T14:35:09.429004Z"
    }
   },
   "source": [
    "from sklearn.datasets import make_moons\n",
    "from DenseLayer import DenseLayer\n",
    "from ActivationFunc import Softmax\n",
    "\n",
    "X, y = make_moons(n_samples=100, noise=0.2)\n",
    "\n",
    "X[:5]"
   ],
   "outputs": [
    {
     "data": {
      "text/plain": [
       "array([[-0.50736363,  0.61842038],\n",
       "       [ 0.95289275,  0.09380138],\n",
       "       [ 0.8430658 , -0.96356582],\n",
       "       [-0.44606363,  0.93496864],\n",
       "       [ 0.93097096,  0.90159356]])"
      ]
     },
     "execution_count": 6,
     "metadata": {},
     "output_type": "execute_result"
    }
   ],
   "execution_count": 6
  },
  {
   "metadata": {
    "ExecuteTime": {
     "end_time": "2025-08-09T14:35:41.700878Z",
     "start_time": "2025-08-09T14:35:41.697737Z"
    }
   },
   "cell_type": "code",
   "source": [
    "dense = DenseLayer(2, 2, Softmax)\n",
    "\n",
    "dense.forward(X)\n",
    "\n",
    "dense.output[:5]"
   ],
   "id": "cc981ad65c7e4de9",
   "outputs": [
    {
     "data": {
      "text/plain": [
       "array([[0.4970073 , 0.5029927 ],\n",
       "       [0.49768971, 0.50231029],\n",
       "       [0.50456818, 0.49543182],\n",
       "       [0.49489693, 0.50510307],\n",
       "       [0.49262597, 0.50737403]])"
      ]
     },
     "execution_count": 10,
     "metadata": {},
     "output_type": "execute_result"
    }
   ],
   "execution_count": 10
  },
  {
   "metadata": {
    "ExecuteTime": {
     "end_time": "2025-08-09T14:35:09.441417Z",
     "start_time": "2025-08-09T14:35:09.438144Z"
    }
   },
   "cell_type": "code",
   "source": "y[:5]",
   "id": "f1e1c4805385edcd",
   "outputs": [
    {
     "data": {
      "text/plain": [
       "array([0, 0, 1, 0, 0])"
      ]
     },
     "execution_count": 8,
     "metadata": {},
     "output_type": "execute_result"
    }
   ],
   "execution_count": 8
  }
 ],
 "metadata": {
  "kernelspec": {
   "display_name": "Python 3",
   "language": "python",
   "name": "python3"
  },
  "language_info": {
   "codemirror_mode": {
    "name": "ipython",
    "version": 2
   },
   "file_extension": ".py",
   "mimetype": "text/x-python",
   "name": "python",
   "nbconvert_exporter": "python",
   "pygments_lexer": "ipython2",
   "version": "2.7.6"
  }
 },
 "nbformat": 4,
 "nbformat_minor": 5
}
